{
 "cells": [
  {
   "cell_type": "code",
   "execution_count": 3,
   "metadata": {},
   "outputs": [],
   "source": [
    "import pandas as pd\n",
    "import numpy as np\n",
    "import matplotlib.pyplot as plt"
   ]
  },
  {
   "cell_type": "code",
   "execution_count": 27,
   "metadata": {},
   "outputs": [],
   "source": [
    "import json\n",
    "import csv"
   ]
  },
  {
   "cell_type": "code",
   "execution_count": 46,
   "metadata": {},
   "outputs": [],
   "source": [
    "import json\n",
    "import csv\n",
    "\n",
    "# Open the JSON file for reading\n",
    "with open('attendancerealtime.json') as json_file:\n",
    "    data = json.load(json_file)\n",
    "\n",
    "# Open a CSV file for writing\n",
    "with open('students.csv', mode='w', newline='') as csv_file:\n",
    "    writer = csv.writer(csv_file)\n",
    "\n",
    "    # Write the header row to the CSV file\n",
    "    writer.writerow([\"ID\", \"Name\", \"Major\", \"Standing\", \"Starting Year\", \"Year\", \"Total Attendance\", \"Last Attendance Time\"])\n",
    "\n",
    "    # Write the data rows to the CSV file\n",
    "    for student_id, student_info in data[\"Students\"].items():\n",
    "        writer.writerow([student_id, student_info[\"name\"], student_info[\"major\"], student_info[\"standing\"], student_info[\"starting_year\"], student_info[\"year\"], student_info[\"total_attendance\"], student_info[\"last_attendance_time\"]])\n"
   ]
  },
  {
   "cell_type": "code",
   "execution_count": 47,
   "metadata": {},
   "outputs": [],
   "source": [
    "df=pd.read_csv(\"students.csv\")"
   ]
  },
  {
   "cell_type": "code",
   "execution_count": 48,
   "metadata": {},
   "outputs": [
    {
     "data": {
      "text/html": [
       "<div>\n",
       "<style scoped>\n",
       "    .dataframe tbody tr th:only-of-type {\n",
       "        vertical-align: middle;\n",
       "    }\n",
       "\n",
       "    .dataframe tbody tr th {\n",
       "        vertical-align: top;\n",
       "    }\n",
       "\n",
       "    .dataframe thead th {\n",
       "        text-align: right;\n",
       "    }\n",
       "</style>\n",
       "<table border=\"1\" class=\"dataframe\">\n",
       "  <thead>\n",
       "    <tr style=\"text-align: right;\">\n",
       "      <th></th>\n",
       "      <th>ID</th>\n",
       "      <th>Name</th>\n",
       "      <th>Major</th>\n",
       "      <th>Standing</th>\n",
       "      <th>Starting Year</th>\n",
       "      <th>Year</th>\n",
       "      <th>Total Attendance</th>\n",
       "      <th>Last Attendance Time</th>\n",
       "    </tr>\n",
       "  </thead>\n",
       "  <tbody>\n",
       "    <tr>\n",
       "      <th>0</th>\n",
       "      <td>1420</td>\n",
       "      <td>Samir Sengupta</td>\n",
       "      <td>Data Science</td>\n",
       "      <td>G</td>\n",
       "      <td>2021</td>\n",
       "      <td>3</td>\n",
       "      <td>12</td>\n",
       "      <td>2023-03-13 10:04:21</td>\n",
       "    </tr>\n",
       "    <tr>\n",
       "      <th>1</th>\n",
       "      <td>1567</td>\n",
       "      <td>Sundar Pichai</td>\n",
       "      <td>B.Tech</td>\n",
       "      <td>G</td>\n",
       "      <td>2021</td>\n",
       "      <td>4</td>\n",
       "      <td>8</td>\n",
       "      <td>2023-3-11 00:54:34</td>\n",
       "    </tr>\n",
       "    <tr>\n",
       "      <th>2</th>\n",
       "      <td>2721</td>\n",
       "      <td>Sowmiah Nadar</td>\n",
       "      <td>Data Science</td>\n",
       "      <td>G</td>\n",
       "      <td>2021</td>\n",
       "      <td>4</td>\n",
       "      <td>20</td>\n",
       "      <td>2023-03-13 10:04:37</td>\n",
       "    </tr>\n",
       "    <tr>\n",
       "      <th>3</th>\n",
       "      <td>6543</td>\n",
       "      <td>MS Dhoni</td>\n",
       "      <td>BMMS</td>\n",
       "      <td>G</td>\n",
       "      <td>2021</td>\n",
       "      <td>5</td>\n",
       "      <td>8</td>\n",
       "      <td>2023-3-11 00:54:34</td>\n",
       "    </tr>\n",
       "    <tr>\n",
       "      <th>4</th>\n",
       "      <td>321654</td>\n",
       "      <td>Murtaza Hassan</td>\n",
       "      <td>Robotics</td>\n",
       "      <td>G</td>\n",
       "      <td>2017</td>\n",
       "      <td>4</td>\n",
       "      <td>7</td>\n",
       "      <td>2022-12-11 00:54:34</td>\n",
       "    </tr>\n",
       "  </tbody>\n",
       "</table>\n",
       "</div>"
      ],
      "text/plain": [
       "       ID            Name         Major Standing  Starting Year  Year  \\\n",
       "0    1420  Samir Sengupta  Data Science        G           2021     3   \n",
       "1    1567   Sundar Pichai        B.Tech        G           2021     4   \n",
       "2    2721   Sowmiah Nadar  Data Science        G           2021     4   \n",
       "3    6543        MS Dhoni          BMMS        G           2021     5   \n",
       "4  321654  Murtaza Hassan      Robotics        G           2017     4   \n",
       "\n",
       "   Total Attendance Last Attendance Time  \n",
       "0                12  2023-03-13 10:04:21  \n",
       "1                 8   2023-3-11 00:54:34  \n",
       "2                20  2023-03-13 10:04:37  \n",
       "3                 8   2023-3-11 00:54:34  \n",
       "4                 7  2022-12-11 00:54:34  "
      ]
     },
     "execution_count": 48,
     "metadata": {},
     "output_type": "execute_result"
    }
   ],
   "source": [
    "df.head()"
   ]
  },
  {
   "cell_type": "code",
   "execution_count": null,
   "metadata": {},
   "outputs": [],
   "source": []
  }
 ],
 "metadata": {
  "kernelspec": {
   "display_name": "Python 3 (ipykernel)",
   "language": "python",
   "name": "python3"
  },
  "language_info": {
   "codemirror_mode": {
    "name": "ipython",
    "version": 3
   },
   "file_extension": ".py",
   "mimetype": "text/x-python",
   "name": "python",
   "nbconvert_exporter": "python",
   "pygments_lexer": "ipython3",
   "version": "3.9.13"
  },
  "orig_nbformat": 4
 },
 "nbformat": 4,
 "nbformat_minor": 2
}
